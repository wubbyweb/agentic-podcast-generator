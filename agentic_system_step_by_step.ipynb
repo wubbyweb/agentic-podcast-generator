{
 "cells": [
  {
   "cell_type": "markdown",
   "id": "856dc587",
   "metadata": {},
   "source": [
    "# 🤖 Agentic Podcast Generator - Step by Step Execution\n",
    "\n",
    "This notebook breaks down the execution of the Agentic Podcast Generator program into individual, executable steps. Each cell demonstrates a specific part of the workflow, from initialization to final output generation.\n",
    "\n",
    "**✅ Compatible with Google Colab** - Automatically detects environment and configures appropriately.\n",
    "\n",
    "## Overview\n",
    "\n",
    "The Agentic Podcast Generator is a multi-agent system that:\n",
    "1. Researches topics using Perplexity AI\n",
    "2. Generates keywords and hashtags\n",
    "3. Creates LinkedIn posts\n",
    "4. Produces voice dialog scripts\n",
    "5. Stores results in a SQLite database\n",
    "\n",
    "All steps are executed sequentially in this notebook for educational purposes."
   ]
  },
  {
   "cell_type": "markdown",
   "id": "4064715d",
   "metadata": {},
   "source": [
    "## 1. Load the Program Code\n",
    "\n",
    "First, we need to load the necessary modules and set up the environment. This includes importing all the required libraries and loading environment variables."
   ]
  },
  {
   "cell_type": "code",
   "execution_count": 5,
   "id": "674847a0",
   "metadata": {},
   "outputs": [
    {
     "name": "stdout",
     "output_type": "stream",
     "text": [
      "🔧 Running in local environment\n",
      "✅ Environment variables loaded from .env file\n",
      "✅ Local path configured\n"
     ]
    }
   ],
   "source": [
    "# Load environment variables and imports\n",
    "import os\n",
    "import sys\n",
    "import asyncio\n",
    "import logging\n",
    "from typing import Dict, Any, Optional\n",
    "\n",
    "# Check if running in Google Colab\n",
    "try:\n",
    "    import google.colab\n",
    "    IN_COLAB = True\n",
    "    print(\"🔧 Running in Google Colab\")\n",
    "except ImportError:\n",
    "    IN_COLAB = False\n",
    "    print(\"🔧 Running in local environment\")\n",
    "\n",
    "if IN_COLAB:\n",
    "    # Use Colab secrets\n",
    "    from google.colab import userdata\n",
    "    \n",
    "    # Set environment variables from Colab secrets\n",
    "    os.environ['OPENROUTER_API_KEY'] = userdata.get('OPENROUTER_API_KEY')\n",
    "    print(\"✅ API keys loaded from Colab secrets\")\n",
    "else:\n",
    "    # Use local .env file\n",
    "    from dotenv import load_dotenv\n",
    "    load_dotenv()\n",
    "    print(\"✅ Environment variables loaded from .env file\")\n",
    "\n",
    "# Add the project root to Python path\n",
    "if IN_COLAB:\n",
    "    # In Colab, the path will be set after cloning\n",
    "    sys.path.insert(0, '/content/agentic-podcast-generator')\n",
    "    print(\"✅ Colab path configured\")\n",
    "else:\n",
    "    sys.path.insert(0, '/Users/rj/Programs/agentic-podcast-generator')\n",
    "    print(\"✅ Local path configured\")"
   ]
  },
  {
   "cell_type": "markdown",
   "id": "ff6a2d41",
   "metadata": {},
   "source": [
    "### Colab Setup Instructions\n",
    "\n",
    "If running in Google Colab, follow these steps:\n",
    "\n",
    "1. **Set up secrets**: Go to Colab menu → Runtime → Secrets\n",
    "   - Add a secret named `OPENROUTER_API_KEY` with your OpenRouter API key\n",
    "   - Make sure \"Notebook access\" is enabled\n",
    "\n",
    "2. **Clone the repository** (run this cell if in Colab):"
   ]
  },
  {
   "cell_type": "code",
   "execution_count": 6,
   "id": "e5892a60",
   "metadata": {},
   "outputs": [
    {
     "name": "stdout",
     "output_type": "stream",
     "text": [
      "ℹ️  Local environment detected - skipping Colab setup\n"
     ]
    }
   ],
   "source": [
    "# Clone repository in Colab (run this cell if in Colab)\n",
    "if IN_COLAB:\n",
    "    !git clone https://github.com/wubbyweb/agentic-podcast-generator.git\n",
    "    %cd agentic-podcast-generator\n",
    "    !pip install -r requirements.txt\n",
    "    print(\"✅ Repository cloned and dependencies installed\")\n",
    "else:\n",
    "    print(\"ℹ️  Local environment detected - skipping Colab setup\")"
   ]
  },
  {
   "cell_type": "markdown",
   "id": "94b0db31",
   "metadata": {},
   "source": [
    "## 2. Parse/Setup - Import Core Modules\n",
    "\n",
    "Now we'll import the core modules of the agentic system including configuration, database, services, and agents."
   ]
  },
  {
   "cell_type": "code",
   "execution_count": 2,
   "id": "e0a3242d",
   "metadata": {},
   "outputs": [
    {
     "name": "stdout",
     "output_type": "stream",
     "text": [
      "✅ Core modules imported successfully\n"
     ]
    }
   ],
   "source": [
    "# Import core modules\n",
    "from config.settings import config\n",
    "from database.connection import init_database\n",
    "from services.logger import setup_logging\n",
    "from services.openrouter_client import OpenRouterClient\n",
    "from agents.master_agent import MasterAgent\n",
    "from agents.sub_agents.keyword_generator import KeywordGenerator\n",
    "from agents.sub_agents.post_generator import PostGenerator\n",
    "from agents.sub_agents.voice_dialog import VoiceDialogGenerator\n",
    "\n",
    "print(\"✅ Core modules imported successfully\")"
   ]
  },
  {
   "cell_type": "markdown",
   "id": "0d1c56b1",
   "metadata": {},
   "source": [
    "## 3. Identify Key Execution Steps\n",
    "\n",
    "The agentic system follows these main execution steps:\n",
    "\n",
    "1. **Configuration Validation** - Ensure all required settings are present\n",
    "2. **Logging Setup** - Initialize logging system\n",
    "3. **Database Initialization** - Set up SQLite database\n",
    "4. **Research Phase** - Get comprehensive research from Perplexity AI\n",
    "5. **Agent Initialization** - Create and initialize all sub-agents\n",
    "6. **Sequential Execution** - Run each sub-agent (normally parallel, but sequential here for demonstration)\n",
    "7. **Results Compilation** - Gather and format all outputs\n",
    "8. **Cleanup** - Close database connections and clean up resources\n",
    "\n",
    "Let's execute each step individually."
   ]
  },
  {
   "cell_type": "markdown",
   "id": "b4fed17f",
   "metadata": {},
   "source": [
    "### Step 3.1: Configuration Validation\n",
    "\n",
    "Validate that all required configuration settings are present and valid."
   ]
  },
  {
   "cell_type": "code",
   "execution_count": 4,
   "id": "232b8171",
   "metadata": {},
   "outputs": [
    {
     "name": "stdout",
     "output_type": "stream",
     "text": [
      "✅ Configuration validation passed\n",
      "   OpenRouter API Key: ✓ Set\n",
      "   Database URL: sqlite+aiosqlite:///./agentic_system.db\n",
      "   Log Level: INFO\n"
     ]
    }
   ],
   "source": [
    "# Step 3.1: Validate configuration\n",
    "try:\n",
    "    config.validate_config()\n",
    "    print(\"✅ Configuration validation passed\")\n",
    "    print(f\"   OpenRouter API Key: {'✓ Set' if config.openrouter_api_key else '✗ Missing'}\")\n",
    "    print(f\"   Database URL: {config.database_url}\")\n",
    "    print(f\"   Log Level: {config.log_level}\")\n",
    "except Exception as e:\n",
    "    print(f\"❌ Configuration validation failed: {e}\")\n",
    "    raise"
   ]
  },
  {
   "cell_type": "markdown",
   "id": "b9071b57",
   "metadata": {},
   "source": [
    "### Step 3.2: Logging Setup\n",
    "\n",
    "Initialize the logging system for the application."
   ]
  },
  {
   "cell_type": "code",
   "execution_count": null,
   "id": "b8933a84",
   "metadata": {},
   "outputs": [],
   "source": [
    "# Step 3.2: Setup logging\n",
    "log_level = \"INFO\"  # Can be changed to DEBUG for more verbose output\n",
    "setup_logging(level=log_level)\n",
    "\n",
    "logger = logging.getLogger(__name__)\n",
    "logger.info(\"Logging system initialized\")\n",
    "\n",
    "print(\"✅ Logging system initialized\")"
   ]
  },
  {
   "cell_type": "markdown",
   "id": "768e64b1",
   "metadata": {},
   "source": [
    "### Step 3.3: Database Initialization\n",
    "\n",
    "Initialize the SQLite database and create necessary tables."
   ]
  },
  {
   "cell_type": "markdown",
   "id": "ab64eb91",
   "metadata": {},
   "source": [
    "**Note for Colab users**: The database will be created in your Colab session storage. Files will persist during the session but will be lost when the session ends. For persistent storage, consider using Google Drive mounting."
   ]
  },
  {
   "cell_type": "code",
   "execution_count": null,
   "id": "0089ce40",
   "metadata": {},
   "outputs": [],
   "source": [
    "# Step 3.3: Initialize database\n",
    "await init_database()\n",
    "logger.info(\"Database initialized\")\n",
    "\n",
    "print(\"✅ Database initialized successfully\")"
   ]
  },
  {
   "cell_type": "markdown",
   "id": "976c0c81",
   "metadata": {},
   "source": [
    "### Step 3.4: Research Phase\n",
    "\n",
    "Get comprehensive research from Perplexity AI for our topic. This is the foundation for all subsequent content generation."
   ]
  },
  {
   "cell_type": "code",
   "execution_count": null,
   "id": "19d40f32",
   "metadata": {},
   "outputs": [],
   "source": [
    "# Step 3.4: Research Phase\n",
    "topic = \"Artificial Intelligence in Healthcare\"  # You can change this topic\n",
    "\n",
    "async def get_perplexity_research(topic: str) -> str:\n",
    "    \"\"\"Get comprehensive research from Perplexity API using sonar model.\"\"\"\n",
    "    async with OpenRouterClient(config.openrouter_api_key) as client:\n",
    "        messages = [\n",
    "            {\n",
    "                \"role\": \"system\",\n",
    "                \"content\": \"You are an expert research assistant. Provide comprehensive, up-to-date research and analysis on the given topic. Include current facts, key insights, trends, and relevant data points.\"\n",
    "            },\n",
    "            {\n",
    "                \"role\": \"user\",\n",
    "                \"content\": f\"Research and analyze this topic comprehensively: {topic}. Provide detailed findings, current developments, and key insights.\"\n",
    "            }\n",
    "        ]\n",
    "\n",
    "        response = await client.chat_completion(\n",
    "            model=\"perplexity/sonar\",\n",
    "            messages=messages,\n",
    "            max_tokens=4000,\n",
    "            temperature=0.3\n",
    "        )\n",
    "\n",
    "        return client.extract_response_content(response)\n",
    "\n",
    "print(f\"🔍 Researching topic: {topic}\")\n",
    "research_response = await get_perplexity_research(topic)\n",
    "logger.info(\"Research completed from Perplexity\")\n",
    "\n",
    "print(\"✅ Research completed successfully\")\n",
    "print(f\"📄 Research length: {len(research_response)} characters\")\n",
    "print(f\"📄 Research preview: {research_response[:200]}...\")"
   ]
  },
  {
   "cell_type": "markdown",
   "id": "81e6201b",
   "metadata": {},
   "source": [
    "### Step 3.5: Agent Initialization\n",
    "\n",
    "Create and initialize all sub-agents that will process the research and generate content."
   ]
  },
  {
   "cell_type": "code",
   "execution_count": null,
   "id": "c6f5bea9",
   "metadata": {},
   "outputs": [],
   "source": [
    "# Step 3.5: Agent Initialization\n",
    "from database.connection import create_session_record\n",
    "\n",
    "# Create a session record\n",
    "session_id = await create_session_record(topic)\n",
    "print(f\"✅ Created session {session_id} for topic: {topic}\")\n",
    "\n",
    "# Initialize sub-agents\n",
    "keyword_agent = KeywordGenerator()\n",
    "keyword_agent.session_id = session_id\n",
    "await keyword_agent.__aenter__()\n",
    "\n",
    "post_agent = PostGenerator()\n",
    "post_agent.session_id = session_id\n",
    "await post_agent.__aenter__()\n",
    "\n",
    "voice_agent = VoiceDialogGenerator()\n",
    "voice_agent.session_id = session_id\n",
    "await voice_agent.__aenter__()\n",
    "\n",
    "print(\"✅ All sub-agents initialized successfully\")"
   ]
  },
  {
   "cell_type": "markdown",
   "id": "be23427f",
   "metadata": {},
   "source": [
    "## 4. Sequential Execution of Sub-Agents\n",
    "\n",
    "Normally, all sub-agents run in parallel for efficiency. Here we'll execute them sequentially to demonstrate each step clearly."
   ]
  },
  {
   "cell_type": "markdown",
   "id": "fb90d272",
   "metadata": {},
   "source": [
    "### Step 4.1: Keyword Generator Execution\n",
    "\n",
    "Generate SEO-optimized keywords and hashtags using the research data."
   ]
  },
  {
   "cell_type": "code",
   "execution_count": null,
   "id": "7454ac59",
   "metadata": {},
   "outputs": [],
   "source": [
    "# Step 4.1: Execute Keyword Generator\n",
    "keyword_input = {\n",
    "    \"topic\": topic,\n",
    "    \"research_response\": research_response\n",
    "}\n",
    "\n",
    "print(\"🏷️ Generating keywords and hashtags...\")\n",
    "keyword_result = await keyword_agent.execute_with_logging(keyword_input)\n",
    "\n",
    "print(\"✅ Keyword generation completed\")\n",
    "print(f\"🔑 Keywords: {keyword_result.get('keywords', [])[:10]}\")  # Show first 10\n",
    "print(f\"📊 Hashtags: {keyword_result.get('hashtags', [])[:10]}\")  # Show first 10"
   ]
  },
  {
   "cell_type": "markdown",
   "id": "d9633a9b",
   "metadata": {},
   "source": [
    "### Step 4.2: Post Generator Execution\n",
    "\n",
    "Create an engaging LinkedIn post based on the research and keywords."
   ]
  },
  {
   "cell_type": "code",
   "execution_count": null,
   "id": "24c24442",
   "metadata": {},
   "outputs": [],
   "source": [
    "# Step 4.2: Execute Post Generator\n",
    "research_results = {\n",
    "    \"topic\": topic,\n",
    "    \"research_plan\": {\"search_queries\": [topic], \"source_types\": [\"perplexity\"]},\n",
    "    \"results\": [{\n",
    "        \"title\": f\"Perplexity Research: {topic}\",\n",
    "        \"url\": f\"https://perplexity.ai/search?q={topic.replace(' ', '+')}\",\n",
    "        \"snippet\": research_response[:500],\n",
    "        \"content\": research_response,\n",
    "        \"source\": \"perplexity\",\n",
    "        \"relevance_score\": 1.0,\n",
    "        \"credibility_score\": 0.9\n",
    "    }],\n",
    "    \"summary\": research_response,\n",
    "    \"total_sources\": 1,\n",
    "    \"credibility_score\": 0.9\n",
    "}\n",
    "\n",
    "post_input = {\n",
    "    \"topic\": topic,\n",
    "    \"research\": research_results,\n",
    "    \"research_response\": research_response\n",
    "}\n",
    "\n",
    "print(\"💼 Generating LinkedIn post...\")\n",
    "post_result = await post_agent.execute_with_logging(post_input)\n",
    "\n",
    "print(\"✅ Post generation completed\")\n",
    "print(\"📝 Generated Post:\")\n",
    "print(\"-\" * 50)\n",
    "print(post_result.get(\"content\", \"No content generated\"))\n",
    "print(\"-\" * 50)"
   ]
  },
  {
   "cell_type": "markdown",
   "id": "476aeaaa",
   "metadata": {},
   "source": [
    "### Step 4.3: Voice Dialog Generator Execution\n",
    "\n",
    "Convert the LinkedIn post into a conversational voice dialog script."
   ]
  },
  {
   "cell_type": "code",
   "execution_count": null,
   "id": "93b72282",
   "metadata": {},
   "outputs": [],
   "source": [
    "# Step 4.3: Execute Voice Dialog Generator\n",
    "voice_input = {\n",
    "    \"topic\": topic,\n",
    "    \"research_response\": research_response\n",
    "}\n",
    "\n",
    "print(\"🎙️ Generating voice dialog script...\")\n",
    "voice_result = await voice_agent.execute_with_logging(voice_input)\n",
    "\n",
    "print(\"✅ Voice dialog generation completed\")\n",
    "print(\"🎭 Generated Voice Script:\")\n",
    "print(\"-\" * 50)\n",
    "print(voice_result.get(\"dialog\", \"No dialog generated\"))\n",
    "print(\"-\" * 50)"
   ]
  },
  {
   "cell_type": "markdown",
   "id": "318f3a3b",
   "metadata": {},
   "source": [
    "## 5. Results Compilation and Validation\n",
    "\n",
    "Compile all the generated content into a final results dictionary and validate the outputs."
   ]
  },
  {
   "cell_type": "code",
   "execution_count": null,
   "id": "eec514fb",
   "metadata": {},
   "outputs": [],
   "source": [
    "# Step 5: Compile final results\n",
    "final_results = {\n",
    "    \"session_id\": session_id,\n",
    "    \"topic\": topic,\n",
    "    \"research_response\": research_response,\n",
    "    \"linkedin_post\": post_result.get(\"content\", \"\"),\n",
    "    \"voice_dialog\": voice_result.get(\"dialog\", \"\"),\n",
    "    \"keywords\": keyword_result.get(\"keywords\", []),\n",
    "    \"hashtags\": keyword_result.get(\"hashtags\", []),\n",
    "    \"research_summary\": research_response[:500]\n",
    "}\n",
    "\n",
    "print(\"✅ Results compiled successfully\")\n",
    "print(\"\\n📊 Final Results Summary:\")\n",
    "print(f\"   Session ID: {final_results['session_id']}\")\n",
    "print(f\"   Topic: {final_results['topic']}\")\n",
    "print(f\"   Keywords Generated: {len(final_results['keywords'])}\")\n",
    "print(f\"   Hashtags Generated: {len(final_results['hashtags'])}\")\n",
    "print(f\"   LinkedIn Post Length: {len(final_results['linkedin_post'])} characters\")\n",
    "print(f\"   Voice Dialog Length: {len(final_results['voice_dialog'])} characters\")\n",
    "print(f\"   Research Summary Length: {len(final_results['research_summary'])} characters\")"
   ]
  },
  {
   "cell_type": "markdown",
   "id": "94909fb4",
   "metadata": {},
   "source": [
    "## 6. Cleanup and Best Practices\n",
    "\n",
    "Clean up resources and update the session status. This demonstrates proper resource management."
   ]
  },
  {
   "cell_type": "code",
   "execution_count": null,
   "id": "c8325595",
   "metadata": {},
   "outputs": [],
   "source": [
    "# Step 6: Cleanup and finalize\n",
    "from database.connection import update_session_status\n",
    "\n",
    "# Update session status to completed\n",
    "await update_session_status(session_id, \"completed\")\n",
    "print(f\"✅ Session {session_id} marked as completed\")\n",
    "\n",
    "# Clean up agents\n",
    "await keyword_agent.__aexit__(None, None, None)\n",
    "await post_agent.__aexit__(None, None, None)\n",
    "await voice_agent.__aexit__(None, None, None)\n",
    "print(\"✅ All agents cleaned up\")\n",
    "\n",
    "print(\"\\n🎉 Agentic Podcast Generator execution completed successfully!\")\n",
    "print(\"\\n💡 Best Practices Demonstrated:\")\n",
    "print(\"   • Proper async/await usage\")\n",
    "print(\"   • Resource management with context managers\")\n",
    "print(\"   • Database session management\")\n",
    "print(\"   • Error handling and logging\")\n",
    "print(\"   • Sequential execution for debugging\")\n",
    "print(\"   • Result validation and compilation\")"
   ]
  },
  {
   "cell_type": "markdown",
   "id": "27a95f19",
   "metadata": {},
   "source": [
    "## Conclusion\n",
    "\n",
    "This notebook has successfully demonstrated the complete execution flow of the Agentic Podcast Generator system. By breaking down the program into individual, executable steps, we've shown:\n",
    "\n",
    "1. **System Initialization**: Loading modules, validating configuration, setting up logging and database\n",
    "2. **Research Phase**: Using Perplexity AI to gather comprehensive topic research\n",
    "3. **Agent Orchestration**: Sequential execution of sub-agents for content generation\n",
    "4. **Result Compilation**: Gathering and validating all generated outputs\n",
    "5. **Resource Management**: Proper cleanup and session management\n",
    "\n",
    "The system generates:\n",
    "- **Keywords & Hashtags**: SEO-optimized content tags\n",
    "- **LinkedIn Posts**: Professional social media content\n",
    "- **Voice Dialog Scripts**: Conversational podcast scripts\n",
    "- **Research Summaries**: Condensed topic insights\n",
    "\n",
    "All outputs are stored in a SQLite database for persistence and can be retrieved for future use or analysis.\n",
    "\n",
    "### Colab Usage Notes\n",
    "\n",
    "- **Secrets Setup**: Configure your `OPENROUTER_API_KEY` in Colab secrets before running\n",
    "- **Repository**: The notebook automatically clones the repository when run in Colab\n",
    "- **Persistence**: Database files are stored in session storage and will be lost when the session ends\n",
    "- **Dependencies**: All required packages are automatically installed\n",
    "\n",
    "### Running with Different Topics\n",
    "\n",
    "To run this notebook with a different topic, simply change the `topic` variable in Step 3.4 and re-run all cells from that point forward.\n",
    "\n",
    "### Local vs Colab Execution\n",
    "\n",
    "The notebook automatically detects the environment and configures itself appropriately:\n",
    "- **Local**: Uses `.env` files and local paths\n",
    "- **Colab**: Uses secrets and clones the repository"
   ]
  }
 ],
 "metadata": {
  "kernelspec": {
   "display_name": "agentic-podcast-generator",
   "language": "python",
   "name": "python3"
  },
  "language_info": {
   "codemirror_mode": {
    "name": "ipython",
    "version": 3
   },
   "file_extension": ".py",
   "mimetype": "text/x-python",
   "name": "python",
   "nbconvert_exporter": "python",
   "pygments_lexer": "ipython3",
   "version": "3.12.11"
  }
 },
 "nbformat": 4,
 "nbformat_minor": 5
}
